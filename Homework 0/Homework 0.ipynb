{
 "cells": [
  {
   "cell_type": "code",
   "execution_count": 47,
   "metadata": {
    "collapsed": false
   },
   "outputs": [
    {
     "name": "stdout",
     "output_type": "stream",
     "text": [
      "IPython version:       5.3.0 (need at least 1.0)\n",
      "Numpy version:        1.13.1 (need at least 1.7.1)\n",
      "SciPy version:        0.19.0 (need at least 0.12.0)\n",
      "Pandas version:       0.20.1 (need at least 0.11.0)\n",
      "Mapltolib version:     2.0.2 (need at least 1.2.1)\n",
      "Scikit-Learn version: 0.18.1 (need at least 0.13.1)\n",
      "requests version:     2.14.2 (need at least 1.2.3)\n",
      "NetworkX version:       1.11 (need at least 1.7)\n",
      "BeautifulSoup version: 4.6.0 (need at least 3.2)\n",
      "Mr Job version:       0.5.11 (need at least 0.4)\n"
     ]
    }
   ],
   "source": [
    "#IPython is what you are using now to run the notebook\n",
    "import IPython\n",
    "print(\"IPython version:      %6.6s (need at least 1.0)\" % IPython.__version__)\n",
    "\n",
    "# Numpy is a library for working with Arrays\n",
    "import numpy as np\n",
    "print(\"Numpy version:        %6.6s (need at least 1.7.1)\" % np.__version__)\n",
    "\n",
    "# SciPy implements many different numerical algorithms\n",
    "import scipy as sp\n",
    "print(\"SciPy version:        %6.6s (need at least 0.12.0)\" % sp.__version__)\n",
    "\n",
    "# Pandas makes working with data tables easier\n",
    "import pandas as pd\n",
    "print(\"Pandas version:       %6.6s (need at least 0.11.0)\" % pd.__version__)\n",
    "\n",
    "# Module for plotting\n",
    "%matplotlib inline\n",
    "import matplotlib.pyplot as plt\n",
    "print(\"Mapltolib version:    %6.6s (need at least 1.2.1)\" % matplotlib.__version__)\n",
    "\n",
    "# SciKit Learn implements several Machine Learning algorithms\n",
    "import sklearn\n",
    "print(\"Scikit-Learn version: %6.6s (need at least 0.13.1)\" % sklearn.__version__)\n",
    "\n",
    "# Requests is a library for getting data from the Web\n",
    "import requests\n",
    "print(\"requests version:     %6.6s (need at least 1.2.3)\" % requests.__version__)\n",
    "\n",
    "# Networkx is a library for working with networks\n",
    "import networkx as nx\n",
    "print(\"NetworkX version:     %6.6s (need at least 1.7)\" % nx.__version__)\n",
    "\n",
    "#BeautifulSoup is a library to parse HTML and XML documents\n",
    "import bs4\n",
    "print(\"BeautifulSoup version:%6.6s (need at least 3.2)\" % bs4.__version__)\n",
    "\n",
    "#MrJob is a library to run map reduce jobs on Amazon's computers\n",
    "import mrjob\n",
    "print(\"Mr Job version:       %6.6s (need at least 0.4)\" % mrjob.__version__)\n",
    "\n",
    "#Pattern has lots of tools for working with data from the internet\n",
    "#import pattern\n",
    "#print(\"Pattern version:      %6.6s (need at least 2.6)\" % pattern.__version__)\n"
   ]
  },
  {
   "cell_type": "markdown",
   "metadata": {},
   "source": [
    "# Hello numpy"
   ]
  },
  {
   "cell_type": "code",
   "execution_count": 16,
   "metadata": {
    "collapsed": false
   },
   "outputs": [
    {
     "name": "stdout",
     "output_type": "stream",
     "text": [
      "Make a 3 row x 4 column array of random numbers\n",
      "[[ 0.40375228  0.31320999  0.43078949  0.85207932]\n",
      " [ 0.84929062  0.04400262  0.65915563  0.78692442]\n",
      " [ 0.13730101  0.44167669  0.9984837   0.50195458]]\n",
      "Add 1 to every element\n",
      "[[ 1.40375228  1.31320999  1.43078949  1.85207932]\n",
      " [ 1.84929062  1.04400262  1.65915563  1.78692442]\n",
      " [ 1.13730101  1.44167669  1.9984837   1.50195458]]\n",
      "Get the element at row 1, column 2\n",
      "1.65915562703\n",
      "Get the first row\n",
      "[ 1.40375228  1.31320999  1.43078949  1.85207932]\n",
      "Get every 2nd column of the first row\n",
      "[ 1.40375228  1.43078949]\n"
     ]
    },
    {
     "data": {
      "text/plain": [
       "<function print>"
      ]
     },
     "execution_count": 16,
     "metadata": {},
     "output_type": "execute_result"
    }
   ],
   "source": [
    "import numpy as np\n",
    "\n",
    "print(\"Make a 3 row x 4 column array of random numbers\")\n",
    "x = np.random.random((3, 4))\n",
    "print(x)\n",
    "print\n",
    "\n",
    "print(\"Add 1 to every element\")\n",
    "x = x + 1\n",
    "print(x)\n",
    "print\n",
    "\n",
    "print(\"Get the element at row 1, column 2\")\n",
    "print(x[1, 2])\n",
    "print\n",
    "\n",
    "# The colon syntax is called \"slicing\" the array. \n",
    "print(\"Get the first row\")\n",
    "print(x[0, :])\n",
    "print\n",
    "\n",
    "print(\"Get every 2nd column of the first row\")\n",
    "print(x[0, ::2])\n",
    "print"
   ]
  },
  {
   "cell_type": "markdown",
   "metadata": {},
   "source": [
    "Print the maximum, minimum, and mean of the array. This does not require writing a loop. In the code cell below, type x.m<TAB>, to find built-in operations for common array statistics like this"
   ]
  },
  {
   "cell_type": "code",
   "execution_count": 23,
   "metadata": {
    "collapsed": false
   },
   "outputs": [
    {
     "name": "stdout",
     "output_type": "stream",
     "text": [
      "Maximum\n",
      "1.99848369655\n",
      "Minimum\n",
      "1.0440026218\n",
      "Mean\n",
      "1.53488502813\n"
     ]
    }
   ],
   "source": [
    "# SOLUTION\n",
    "\n",
    "# max\n",
    "print(\"Maximum\")\n",
    "print(x.max())\n",
    "\n",
    "# min\n",
    "print(\"Minimum\")\n",
    "print(x.min())\n",
    "\n",
    "# mean\n",
    "print(\"Mean\")\n",
    "print(x.mean())"
   ]
  },
  {
   "cell_type": "markdown",
   "metadata": {},
   "source": [
    "Call the x.max function again, but use the *axis* keyword to print the maximum of each row in x."
   ]
  },
  {
   "cell_type": "code",
   "execution_count": 21,
   "metadata": {
    "collapsed": false
   },
   "outputs": [
    {
     "name": "stdout",
     "output_type": "stream",
     "text": [
      "[ 1.85207932  1.84929062  1.9984837 ]\n"
     ]
    }
   ],
   "source": [
    "# SOLUTION\n",
    "# using option axis=1\n",
    "print(x.max(axis=1))"
   ]
  },
  {
   "cell_type": "markdown",
   "metadata": {},
   "source": [
    "Here's a way to quickly simulate 500 coin \"fair\" coin tosses (where the probabily of getting Heads is 50%, or 0.5)"
   ]
  },
  {
   "cell_type": "code",
   "execution_count": 30,
   "metadata": {
    "collapsed": false
   },
   "outputs": [
    {
     "name": "stdout",
     "output_type": "stream",
     "text": [
      "number of heads: 258\n"
     ]
    }
   ],
   "source": [
    "x = np.random.binomial(500, .5)\n",
    "print(\"number of heads:\", x)"
   ]
  },
  {
   "cell_type": "markdown",
   "metadata": {},
   "source": [
    "Repeat this simulation 500 times, and use the plt.hist() function to plot a histogram of the number of Heads (1s) in each simulation"
   ]
  },
  {
   "cell_type": "code",
   "execution_count": 48,
   "metadata": {
    "collapsed": false
   },
   "outputs": [
    {
     "data": {
      "text/plain": [
       "(array([   5.,   18.,   40.,   77.,   95.,  105.,   98.,   43.,   15.,    4.]),\n",
       " array([ 218. ,  224.3,  230.6,  236.9,  243.2,  249.5,  255.8,  262.1,\n",
       "         268.4,  274.7,  281. ]),\n",
       " <a list of 10 Patch objects>)"
      ]
     },
     "execution_count": 48,
     "metadata": {},
     "output_type": "execute_result"
    },
    {
     "data": {
      "image/png": "[encoded data removed]",
      "text/plain": [
       "<matplotlib.figure.Figure at 0x1cb7d75b358>"
      ]
     },
     "metadata": {},
     "output_type": "display_data"
    }
   ],
   "source": [
    "heads = [np.random.binomial(500, .5) for i in range(0, 500)]\n",
    "    \n",
    "plt.hist(heads)"
   ]
  },
  {
   "cell_type": "markdown",
   "metadata": {},
   "source": [
    "# The Monty Hall Problem"
   ]
  },
  {
   "cell_type": "markdown",
   "metadata": {},
   "source": [
    "Here's a fun and perhaps surprising statistical riddle, and a good way to get some practice writing python functions\n",
    "\n",
    "In a gameshow, contestants try to guess which of 3 closed doors contain a cash prize (goats are behind the other two doors). Of course, the odds of choosing the correct door are 1 in 3. As a twist, the host of the show occasionally opens a door after a contestant makes his or her choice. This door is always one of the two the contestant did not pick, and is also always one of the goat doors (note that it is always possible to do this, since there are two goat doors). At this point, the contestant has the option of keeping his or her original choice, or swtiching to the other unopened door. The question is: is there any benefit to switching doors? The answer surprises many people who haven't heard the question before.\n",
    "\n",
    "We can answer the problem by running simulations in Python. We'll do it in several parts.\n",
    "\n",
    "First, write a function called simulate_prizedoor. This function will simulate the location of the prize in many games -- see the detailed specification below:"
   ]
  },
  {
   "cell_type": "code",
   "execution_count": 61,
   "metadata": {
    "collapsed": false
   },
   "outputs": [],
   "source": [
    "# SOLUTION\n",
    "\n",
    "def simulate_prizedoor(nsim):\n",
    "    \"\"\"\n",
    "    Function\n",
    "    --------\n",
    "    simulate_prizedoor\n",
    "\n",
    "    Generate a random array of 0s, 1s, and 2s, representing\n",
    "    hiding a prize between door 0, door 1, and door 2\n",
    "\n",
    "    Parameters\n",
    "    ----------\n",
    "    nsim : int\n",
    "    The number of simulations to run\n",
    "\n",
    "    Returns\n",
    "    -------\n",
    "    sims : array\n",
    "    Random array of 0s, 1s, and 2s\n",
    "\n",
    "    Example\n",
    "    -------\n",
    "    >>> print simulate_prizedoor(3)\n",
    "    array([0, 0, 2])\n",
    "    \"\"\"\n",
    "    \n",
    "    return np.random.randint(low=0, high=3, size=nsim) # high exclusive"
   ]
  },
  {
   "cell_type": "markdown",
   "metadata": {},
   "source": [
    "Next, write a function that simulates the contestant's guesses for nsim simulations. Call this function simulate_guess. The specs:"
   ]
  },
  {
   "cell_type": "code",
   "execution_count": 62,
   "metadata": {
    "collapsed": true
   },
   "outputs": [],
   "source": [
    "# SOLUTION\n",
    "\n",
    "def simulate_guess(nsim):\n",
    "    \"\"\"\n",
    "    Function\n",
    "    --------\n",
    "    simulate_guess\n",
    "\n",
    "    Return any strategy for guessing which door a prize is behind. This\n",
    "    could be a random strategy, one that always guesses 2, whatever.\n",
    "\n",
    "    Parameters\n",
    "    ----------\n",
    "    nsim : int\n",
    "        The number of simulations to generate guesses for\n",
    "\n",
    "    Returns\n",
    "    -------\n",
    "    guesses : array\n",
    "        An array of guesses. Each guess is a 0, 1, or 2\n",
    "\n",
    "    Example\n",
    "    -------\n",
    "    >>> print simulate_guess(5)\n",
    "    array([0, 0, 0, 0, 0])\n",
    "    \"\"\"\n",
    "    #your code here\n",
    "    \n",
    "    return np.random.randint(low=0, high=3, size=nsim)"
   ]
  },
  {
   "cell_type": "markdown",
   "metadata": {},
   "source": [
    "Next, write a function, goat_door, to simulate randomly revealing one of the goat doors that a contestant didn't pick."
   ]
  },
  {
   "cell_type": "code",
   "execution_count": 64,
   "metadata": {
    "collapsed": true
   },
   "outputs": [],
   "source": [
    "# SOLUTION\n",
    "\n",
    "def goat_door(prizedoors, guesses):\n",
    "    \"\"\"\n",
    "    Function\n",
    "    --------\n",
    "    goat_door\n",
    "\n",
    "    Simulate the opening of a \"goat door\" that doesn't contain the prize,\n",
    "    and is different from the contestants guess\n",
    "\n",
    "    Parameters\n",
    "    ----------\n",
    "    prizedoors : array\n",
    "        The door that the prize is behind in each simulation\n",
    "    guesses : array\n",
    "        THe door that the contestant guessed in each simulation\n",
    "\n",
    "    Returns\n",
    "    -------\n",
    "    goats : array\n",
    "        The goat door that is opened for each simulation. Each item is 0, 1, or 2, and is different\n",
    "        from both prizedoors and guesses\n",
    "\n",
    "    Examples\n",
    "    --------\n",
    "    >>> print goat_door(np.array([0, 1, 2]), np.array([1, 1, 1]))\n",
    "    >>> array([2, 2, 0])\n",
    "    \"\"\"\n",
    "    \n",
    "    if prizedoors.size == guesses.size:\n",
    "        # generate random goat doors\n",
    "        goat = np.random.randint(low=0, high=3, size=guesses.size)\n",
    "        while True:\n",
    "            # check if generated goat doors are elegible. If so, keep it, otherwise change it\n",
    "            not_elegible = (goat == prizedoors) | (goat == guesses)\n",
    "            if not not_elegible.any():\n",
    "                return goat\n",
    "            goat[not_elegible] = np.random.randint(low=0, high=3, size=not_elegible.sum())\n",
    "    else:\n",
    "        return \"arguments prizedoors and guesses should be array of same size\""
   ]
  },
  {
   "cell_type": "markdown",
   "metadata": {},
   "source": [
    "Write a function, switch_guess, that represents the strategy of always switching a guess after the goat door is opened"
   ]
  },
  {
   "cell_type": "code",
   "execution_count": 94,
   "metadata": {
    "collapsed": true
   },
   "outputs": [],
   "source": [
    "# SOLUTION\n",
    "\n",
    "\n",
    "def switch_guess(guesses, goatdoors):\n",
    "    \"\"\"\n",
    "    Function\n",
    "    --------\n",
    "    switch_guess\n",
    "\n",
    "    The strategy that always switches a guess after the goat door is opened\n",
    "\n",
    "    Parameters\n",
    "    ----------\n",
    "    guesses : array\n",
    "         Array of original guesses, for each simulation\n",
    "    goatdoors : array\n",
    "         Array of revealed goat doors for each simulation\n",
    "\n",
    "    Returns\n",
    "    -------\n",
    "    The new door after switching. Should be different from both guesses and goatdoors\n",
    "\n",
    "    Examples\n",
    "    --------\n",
    "    >>> print switch_guess(np.array([0, 1, 2]), np.array([1, 2, 1]))\n",
    "    >>> array([2, 0, 0])\n",
    "    \"\"\"\n",
    "    \n",
    "    if prizedoors.size == guesses.size:\n",
    "        aux = np.ones(guesses.size)\n",
    "        result = np.zeros(guesses.size)\n",
    "        for i in [0, 1, 2]:\n",
    "            change_ix = (guesses != i * aux) & (goatdoors != i * aux)\n",
    "            result[change_ix] = i\n",
    "        return result\n",
    "    else:\n",
    "        return \"arguments prizedoors and guesses should be array of same size\""
   ]
  },
  {
   "cell_type": "markdown",
   "metadata": {},
   "source": [
    "Last function: write a win_percentage function that takes an array of guesses and prizedoors, and returns the percent of correct guesses"
   ]
  },
  {
   "cell_type": "code",
   "execution_count": 66,
   "metadata": {
    "collapsed": true
   },
   "outputs": [],
   "source": [
    "# SOLUTION\n",
    "\n",
    "def win_percentage(guesses, prizedoors):\n",
    "    \"\"\"\n",
    "    Function\n",
    "    --------\n",
    "    win_percentage\n",
    "\n",
    "    Calculate the percent of times that a simulation of guesses is correct\n",
    "\n",
    "    Parameters\n",
    "    -----------\n",
    "    guesses : array\n",
    "        Guesses for each simulation\n",
    "    prizedoors : array\n",
    "        Location of prize for each simulation\n",
    "\n",
    "    Returns\n",
    "    --------\n",
    "    percentage : number between 0 and 100\n",
    "        The win percentage\n",
    "\n",
    "    Examples\n",
    "    ---------\n",
    "    >>> print win_percentage(np.array([0, 1, 2]), np.array([0, 0, 0]))\n",
    "    33.333\n",
    "    \"\"\"\n",
    "    \n",
    "    if prizedoors.size == guesses.size:\n",
    "        return 100 * (guesses == prizedoors).mean()\n",
    "    else:\n",
    "        return \"arguments prizedoors and guesses should be array of same size\""
   ]
  },
  {
   "cell_type": "markdown",
   "metadata": {},
   "source": [
    "Now, put it together. Simulate 10000 games where contestant keeps his original guess, and 10000 games where the contestant switches his door after a goat door is revealed. Compute the percentage of time the contestant wins under either strategy. Is one strategy better than the other?"
   ]
  },
  {
   "cell_type": "code",
   "execution_count": 98,
   "metadata": {
    "collapsed": false
   },
   "outputs": [
    {
     "name": "stdout",
     "output_type": "stream",
     "text": [
      "1st case win percentage:\n",
      "33.31\n",
      "2nd case win percentage:\n",
      "66.35\n"
     ]
    }
   ],
   "source": [
    "nsim = 10000\n",
    "\n",
    "# 1st case: contestant keeps original guess\n",
    "guesses = simulate_guess(nsim)\n",
    "prizedoors = simulate_prizedoor(nsim)\n",
    "\n",
    "print(\"1st case win percentage:\")\n",
    "print(win_percentage(guesses, prizedoors))\n",
    "\n",
    "# 2nd case: contestant switches original guess\n",
    "first_guesses = simulate_guess(nsim)\n",
    "prizedoors = simulate_prizedoor(nsim)\n",
    "\n",
    "doors_opened = goat_door(guesses=first_guesses, prizedoors=prizedoors)\n",
    "switched_guesses = switch_guess(guesses=first_guesses, goatdoors=doors_opened)\n",
    "\n",
    "print(\"2nd case win percentage:\")\n",
    "print(win_percentage(switched_guesses, prizedoors))"
   ]
  },
  {
   "cell_type": "markdown",
   "metadata": {},
   "source": [
    "Many people find this answer counter-intuitive (famously, PhD mathematicians have incorrectly claimed the result must be wrong. Clearly, none of them knew Python).\n",
    "One of the best ways to build intuition about why opening a Goat door affects the odds is to re-run the experiment with 100 doors and one prize. If the game show host opens 98 goat doors after you make your initial selection, would you want to keep your first pick or switch? Can you generalize your simulation code to handle the case of n doors?"
   ]
  },
  {
   "cell_type": "markdown",
   "metadata": {},
   "source": [
    "## Generalization"
   ]
  },
  {
   "cell_type": "markdown",
   "metadata": {},
   "source": [
    "First, let's generalize our custom functions to #doors be a parameter (default value 3, as the original Mounty Hall problem)"
   ]
  },
  {
   "cell_type": "code",
   "execution_count": 103,
   "metadata": {
    "collapsed": true
   },
   "outputs": [],
   "source": [
    "# SOLUTION\n",
    "\n",
    "def simulate_prizedoor(nsim, ndoors=3):\n",
    "    return np.random.randint(low=0, high=ndoors, size=nsim)\n",
    "\n",
    "# -------------------------------\n",
    "\n",
    "def simulate_guesses(nsim, ndoors=3):\n",
    "    return np.random.randint(low=0, high=ndoors, size=nsim)\n",
    "\n",
    "# -------------------------------\n",
    "\n",
    "def goat_door(prizedoors, guesses, ndoors=3):   \n",
    "    if prizedoors.size == guesses.size:\n",
    "        # generate random goat doors\n",
    "        goat = np.random.randint(low=0, high=ndoors, size=guesses.size)\n",
    "        while True:\n",
    "            # check if generated goat doors are elegible. If so, keep it, otherwise change it\n",
    "            not_elegible = (goat == prizedoors) | (goat == guesses)\n",
    "            if not not_elegible.any():\n",
    "                return goat\n",
    "            goat[not_elegible] = np.random.randint(low=0, high=ndoors, size=not_elegible.sum())\n",
    "    else:\n",
    "        return \"arguments prizedoors and guesses should be array of same size\"\n",
    "\n",
    "# -------------------------------\n",
    "\n",
    "def switch_guess(guesses, goatdoors, ndoors=3):\n",
    "    if prizedoors.size == guesses.size:\n",
    "        aux = np.ones(guesses.size)\n",
    "        result = np.zeros(guesses.size)\n",
    "        for i in range(0, ndoors):\n",
    "            change_ix = (guesses != i * aux) & (goatdoors != i * aux)\n",
    "            result[change_ix] = i\n",
    "        return result\n",
    "    else:\n",
    "        return \"arguments prizedoors and guesses should be array of same size\""
   ]
  },
  {
   "cell_type": "markdown",
   "metadata": {},
   "source": [
    "### 100 doors and 98 revealed"
   ]
  },
  {
   "cell_type": "code",
   "execution_count": 107,
   "metadata": {
    "collapsed": false
   },
   "outputs": [
    {
     "name": "stdout",
     "output_type": "stream",
     "text": [
      "1st case win percentage:\n",
      "33.34\n",
      "2nd case win percentage:\n",
      "66.96\n"
     ]
    }
   ],
   "source": [
    "nsim = 10000\n",
    "ndoors = 100\n",
    "\n",
    "# 1st case: contestant keeps original guess\n",
    "guesses = simulate_guess(nsim)\n",
    "prizedoors = simulate_prizedoor(nsim)\n",
    "\n",
    "print(\"1st case win percentage:\")\n",
    "print(win_percentage(guesses, prizedoors))\n",
    "\n",
    "# 2nd case: contestant switches original guess\n",
    "first_guesses = simulate_guess(nsim)\n",
    "prizedoors = simulate_prizedoor(nsim)\n",
    "\n",
    "doors_opened = goat_door(guesses=first_guesses, prizedoors=prizedoors)\n",
    "switched_guesses = switch_guess(guesses=first_guesses, goatdoors=doors_opened)\n",
    "\n",
    "print(\"2nd case win percentage:\")\n",
    "print(win_percentage(switched_guesses, prizedoors))"
   ]
  },
  {
   "cell_type": "markdown",
   "metadata": {},
   "source": [
    "always switching strategy still gives 2/3 of winning percentage (with any number of doors and n-2 revealed)"
   ]
  }
 ],
 "metadata": {
  "kernelspec": {
   "display_name": "Python 3",
   "language": "python",
   "name": "python3"
  },
  "language_info": {
   "codemirror_mode": {
    "name": "ipython",
    "version": 3
   },
   "file_extension": ".py",
   "mimetype": "text/x-python",
   "name": "python",
   "nbconvert_exporter": "python",
   "pygments_lexer": "ipython3",
   "version": "3.6.1"
  }
 },
 "nbformat": 4,
 "nbformat_minor": 2
}
